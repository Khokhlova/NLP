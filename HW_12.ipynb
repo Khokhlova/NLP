{
 "cells": [
  {
   "cell_type": "markdown",
   "id": "4bd412f4",
   "metadata": {},
   "source": [
    "# Модель Transformer-2"
   ]
  },
  {
   "cell_type": "markdown",
   "id": "976936ca",
   "metadata": {},
   "source": [
    "Взять тот же датасет и предобученную модель для задачи суммаризации\n",
    "1. Проверить насколько хорошо она суммаризирует\n",
    "2. Сделать генерацию заголовков для статьи"
   ]
  },
  {
   "cell_type": "code",
   "execution_count": 1,
   "id": "3f873727",
   "metadata": {},
   "outputs": [],
   "source": [
    "# Загрузка данных\n",
    "\n",
    "# !wget -q https://www.dropbox.com/s/43l702z5a5i2w8j/gazeta_train.txt\n",
    "# !wget -q https://www.dropbox.com/s/k2egt3sug0hb185/gazeta_val.txt\n",
    "# !wget -q https://www.dropbox.com/s/3gki5n5djs9w0v6/gazeta_test.txt"
   ]
  },
  {
   "cell_type": "code",
   "execution_count": 2,
   "id": "dc26b132",
   "metadata": {},
   "outputs": [],
   "source": [
    "# Функция чтения данных\n",
    "\n",
    "import json\n",
    "import random\n",
    "\n",
    "def read_gazeta_records(file_name, shuffle=True, sort_by_date=False):\n",
    "    assert shuffle != sort_by_date\n",
    "    records = []\n",
    "    with open(file_name, \"r\") as r:\n",
    "        for line in r:\n",
    "            records.append(json.loads(line))\n",
    "    if sort_by_date:\n",
    "        records.sort(key=lambda x: x[\"date\"])\n",
    "    if shuffle:\n",
    "        random.shuffle\n",
    "    return records"
   ]
  },
  {
   "cell_type": "code",
   "execution_count": 3,
   "id": "9b6c4e55",
   "metadata": {},
   "outputs": [],
   "source": [
    "# train_records = read_gazeta_records(\"gazeta_train.txt\")\n",
    "# val_records = read_gazeta_records(\"gazeta_val.txt\")\n",
    "test_records = read_gazeta_records(\"gazeta_test.txt\")"
   ]
  },
  {
   "cell_type": "code",
   "execution_count": 4,
   "id": "7a17cdd9",
   "metadata": {},
   "outputs": [
    {
     "data": {
      "text/html": [
       "<div>\n",
       "<style scoped>\n",
       "    .dataframe tbody tr th:only-of-type {\n",
       "        vertical-align: middle;\n",
       "    }\n",
       "\n",
       "    .dataframe tbody tr th {\n",
       "        vertical-align: top;\n",
       "    }\n",
       "\n",
       "    .dataframe thead th {\n",
       "        text-align: right;\n",
       "    }\n",
       "</style>\n",
       "<table border=\"1\" class=\"dataframe\">\n",
       "  <thead>\n",
       "    <tr style=\"text-align: right;\">\n",
       "      <th></th>\n",
       "      <th>url</th>\n",
       "      <th>text</th>\n",
       "      <th>title</th>\n",
       "      <th>summary</th>\n",
       "      <th>date</th>\n",
       "    </tr>\n",
       "  </thead>\n",
       "  <tbody>\n",
       "    <tr>\n",
       "      <th>0</th>\n",
       "      <td>https://www.gazeta.ru/science/2020/02/14_a_129...</td>\n",
       "      <td>Американское аэрокосмическое агентство NASA ог...</td>\n",
       "      <td>Венера, Ио или Тритон: куда полетит NASA</td>\n",
       "      <td>В NASA назвали четыре миссии в дальний космос,...</td>\n",
       "      <td>2020-02-14 16:39:11</td>\n",
       "    </tr>\n",
       "    <tr>\n",
       "      <th>1</th>\n",
       "      <td>https://www.gazeta.ru/social/2020/02/28/129806...</td>\n",
       "      <td>Около 11 тысяч зрителей увидели все самое лучш...</td>\n",
       "      <td>«Люди в Бурятии очень талантливые»</td>\n",
       "      <td>25 и 26 февраля в Кремлевском дворце съездов п...</td>\n",
       "      <td>2020-02-28 10:44:13</td>\n",
       "    </tr>\n",
       "    <tr>\n",
       "      <th>2</th>\n",
       "      <td>https://www.gazeta.ru/politics/2019/11/07_a_12...</td>\n",
       "      <td>7 ноября в Белоруссии прошли выборы членов сов...</td>\n",
       "      <td>Вспомнить СССР: как Лукашенко провел выборы</td>\n",
       "      <td>В Белоруссии в день годовщины Октябрьской рево...</td>\n",
       "      <td>2019-11-07 19:55:08</td>\n",
       "    </tr>\n",
       "  </tbody>\n",
       "</table>\n",
       "</div>"
      ],
      "text/plain": [
       "                                                 url  \\\n",
       "0  https://www.gazeta.ru/science/2020/02/14_a_129...   \n",
       "1  https://www.gazeta.ru/social/2020/02/28/129806...   \n",
       "2  https://www.gazeta.ru/politics/2019/11/07_a_12...   \n",
       "\n",
       "                                                text  \\\n",
       "0  Американское аэрокосмическое агентство NASA ог...   \n",
       "1  Около 11 тысяч зрителей увидели все самое лучш...   \n",
       "2  7 ноября в Белоруссии прошли выборы членов сов...   \n",
       "\n",
       "                                         title  \\\n",
       "0     Венера, Ио или Тритон: куда полетит NASA   \n",
       "1           «Люди в Бурятии очень талантливые»   \n",
       "2  Вспомнить СССР: как Лукашенко провел выборы   \n",
       "\n",
       "                                             summary                 date  \n",
       "0  В NASA назвали четыре миссии в дальний космос,...  2020-02-14 16:39:11  \n",
       "1  25 и 26 февраля в Кремлевском дворце съездов п...  2020-02-28 10:44:13  \n",
       "2  В Белоруссии в день годовщины Октябрьской рево...  2019-11-07 19:55:08  "
      ]
     },
     "execution_count": 4,
     "metadata": {},
     "output_type": "execute_result"
    }
   ],
   "source": [
    "import pandas as pd\n",
    "\n",
    "dataset = pd.DataFrame(test_records)\n",
    "dataset.head(3)"
   ]
  },
  {
   "cell_type": "code",
   "execution_count": 5,
   "id": "ae217e76",
   "metadata": {},
   "outputs": [],
   "source": [
    "dataset = dataset.drop(['url', 'date'], axis=1)"
   ]
  },
  {
   "cell_type": "code",
   "execution_count": 6,
   "id": "fadd38f2",
   "metadata": {},
   "outputs": [],
   "source": [
    "# Сделаем маленький тестовый датасет \n",
    "\n",
    "dataset = dataset[:20]"
   ]
  },
  {
   "cell_type": "markdown",
   "id": "f6d5eed8",
   "metadata": {},
   "source": [
    "## Summarization"
   ]
  },
  {
   "cell_type": "markdown",
   "id": "0ad13942",
   "metadata": {},
   "source": [
    "### Модель MBARTRuSumGazeta"
   ]
  },
  {
   "cell_type": "code",
   "execution_count": 7,
   "id": "ea83daea",
   "metadata": {},
   "outputs": [],
   "source": [
    "# Загрузка модели \n",
    "\n",
    "from transformers import MBartTokenizer, MBartForConditionalGeneration\n",
    "\n",
    "model_name = \"IlyaGusev/mbart_ru_sum_gazeta\"\n",
    "tokenizer = MBartTokenizer.from_pretrained(model_name)\n",
    "model = MBartForConditionalGeneration.from_pretrained(model_name)"
   ]
  },
  {
   "cell_type": "code",
   "execution_count": 8,
   "id": "1df66a7a",
   "metadata": {},
   "outputs": [
    {
     "name": "stdout",
     "output_type": "stream",
     "text": [
      "Predicted summary:  В Кремле прошла премьера новогоднего шоу «Танцуют все!» с участием более 300 артистов из одного региона. Зрителям рассказали, что в Бурятии сохранилась и развивается культура десятков национальностей, включая русских, бурятов, староверов (семейских), эвенков.\n",
      "Real summary:  25 и 26 февраля в Кремлевском дворце съездов праздновали Сагаалган — Восточный Новый год. Бурятия - центр российского буддизма и один из немногих регионов страны, где новый год встречают официально дважды.\n"
     ]
    }
   ],
   "source": [
    "# Пример работы модели\n",
    "\n",
    "article_text = dataset['text'][1]\n",
    "\n",
    "input_ids = tokenizer(\n",
    "    [article_text],\n",
    "    max_length=600,\n",
    "    padding=\"max_length\",\n",
    "    truncation=True,\n",
    "    return_tensors=\"pt\",\n",
    ")[\"input_ids\"]\n",
    "\n",
    "output_ids = model.generate(\n",
    "    input_ids=input_ids,\n",
    "    no_repeat_ngram_size=4\n",
    ")[0]\n",
    "\n",
    "summary = tokenizer.decode(output_ids, skip_special_tokens=True)\n",
    "\n",
    "print('Predicted summary: ', summary)\n",
    "print('Real summary: ', dataset['summary'][1])"
   ]
  },
  {
   "cell_type": "code",
   "execution_count": 9,
   "id": "f49090ec",
   "metadata": {},
   "outputs": [],
   "source": [
    "# Генерация краткого содержания для всего датасета\n",
    "\n",
    "data = dataset['text']\n",
    "\n",
    "summaries = []\n",
    "\n",
    "for row in data:\n",
    "    input_ids = tokenizer(\n",
    "        [row],\n",
    "        max_length=600,\n",
    "        padding=\"max_length\",\n",
    "        truncation=True,\n",
    "        return_tensors=\"pt\",\n",
    "    )[\"input_ids\"]\n",
    "\n",
    "    output_ids = model.generate(\n",
    "        input_ids=input_ids,\n",
    "        no_repeat_ngram_size=4\n",
    "    )[0]\n",
    "\n",
    "    summary = tokenizer.decode(output_ids, skip_special_tokens=True)\n",
    "    summaries.append(summary)"
   ]
  },
  {
   "cell_type": "code",
   "execution_count": 10,
   "id": "d5e25aca",
   "metadata": {},
   "outputs": [],
   "source": [
    "dataset['pred_summary'] = summaries"
   ]
  },
  {
   "cell_type": "code",
   "execution_count": 11,
   "id": "89cb8f70",
   "metadata": {},
   "outputs": [
    {
     "data": {
      "text/html": [
       "<div>\n",
       "<style scoped>\n",
       "    .dataframe tbody tr th:only-of-type {\n",
       "        vertical-align: middle;\n",
       "    }\n",
       "\n",
       "    .dataframe tbody tr th {\n",
       "        vertical-align: top;\n",
       "    }\n",
       "\n",
       "    .dataframe thead th {\n",
       "        text-align: right;\n",
       "    }\n",
       "</style>\n",
       "<table border=\"1\" class=\"dataframe\">\n",
       "  <thead>\n",
       "    <tr style=\"text-align: right;\">\n",
       "      <th></th>\n",
       "      <th>text</th>\n",
       "      <th>title</th>\n",
       "      <th>summary</th>\n",
       "      <th>pred_summary</th>\n",
       "    </tr>\n",
       "  </thead>\n",
       "  <tbody>\n",
       "    <tr>\n",
       "      <th>3</th>\n",
       "      <td>Народная артистка РСФСР Надежда Бабкина в инте...</td>\n",
       "      <td>«Он очень переживал»: Бабкина об отношениях с ...</td>\n",
       "      <td>Народная артистка РСФСР Надежда Бабкина в инте...</td>\n",
       "      <td>Народная артистка РСФСР Надежда Бабкина расска...</td>\n",
       "    </tr>\n",
       "    <tr>\n",
       "      <th>18</th>\n",
       "      <td>Американскому круизному лайнеру Westerdam, на ...</td>\n",
       "      <td>«Нет больных? Откуда знаете?» Лайнер из США ни...</td>\n",
       "      <td>Круизный лайнер Westerdam, принадлежащий амери...</td>\n",
       "      <td>Американскому круизному лайнеру Westerdam, на ...</td>\n",
       "    </tr>\n",
       "    <tr>\n",
       "      <th>6</th>\n",
       "      <td>Выступление главы российской делегации Петра Т...</td>\n",
       "      <td>«Смотрите, что у вас происходит»: как прервали...</td>\n",
       "      <td>Активист сорвал выступление главы делегации РФ...</td>\n",
       "      <td>Выступление главы российской делегации Петра Т...</td>\n",
       "    </tr>\n",
       "  </tbody>\n",
       "</table>\n",
       "</div>"
      ],
      "text/plain": [
       "                                                 text  \\\n",
       "3   Народная артистка РСФСР Надежда Бабкина в инте...   \n",
       "18  Американскому круизному лайнеру Westerdam, на ...   \n",
       "6   Выступление главы российской делегации Петра Т...   \n",
       "\n",
       "                                                title  \\\n",
       "3   «Он очень переживал»: Бабкина об отношениях с ...   \n",
       "18  «Нет больных? Откуда знаете?» Лайнер из США ни...   \n",
       "6   «Смотрите, что у вас происходит»: как прервали...   \n",
       "\n",
       "                                              summary  \\\n",
       "3   Народная артистка РСФСР Надежда Бабкина в инте...   \n",
       "18  Круизный лайнер Westerdam, принадлежащий амери...   \n",
       "6   Активист сорвал выступление главы делегации РФ...   \n",
       "\n",
       "                                         pred_summary  \n",
       "3   Народная артистка РСФСР Надежда Бабкина расска...  \n",
       "18  Американскому круизному лайнеру Westerdam, на ...  \n",
       "6   Выступление главы российской делегации Петра Т...  "
      ]
     },
     "execution_count": 11,
     "metadata": {},
     "output_type": "execute_result"
    }
   ],
   "source": [
    "dataset.sample(3)"
   ]
  },
  {
   "cell_type": "code",
   "execution_count": 12,
   "id": "f42d2f82",
   "metadata": {},
   "outputs": [],
   "source": [
    "# Загрузка библиотек для оценки качества \n",
    "\n",
    "from datasets import load_metric\n",
    "\n",
    "rouge_score = load_metric(\"rouge\")"
   ]
  },
  {
   "cell_type": "code",
   "execution_count": 18,
   "id": "b8b96e73",
   "metadata": {},
   "outputs": [],
   "source": [
    "predictions = dataset['pred_summary']\n",
    "references = dataset['summary']"
   ]
  },
  {
   "cell_type": "code",
   "execution_count": 19,
   "id": "1a58a3b5",
   "metadata": {},
   "outputs": [
    {
     "data": {
      "text/plain": [
       "{'rouge1': AggregateScore(low=Score(precision=0.30952380952380953, recall=0.65, fmeasure=0.41935483870967744), mid=Score(precision=0.30952380952380953, recall=0.65, fmeasure=0.41935483870967744), high=Score(precision=0.30952380952380953, recall=0.65, fmeasure=0.41935483870967744)),\n",
       " 'rouge2': AggregateScore(low=Score(precision=0.14634146341463414, recall=0.3157894736842105, fmeasure=0.19999999999999998), mid=Score(precision=0.14634146341463414, recall=0.3157894736842105, fmeasure=0.19999999999999998), high=Score(precision=0.14634146341463414, recall=0.3157894736842105, fmeasure=0.19999999999999998)),\n",
       " 'rougeL': AggregateScore(low=Score(precision=0.30952380952380953, recall=0.65, fmeasure=0.41935483870967744), mid=Score(precision=0.30952380952380953, recall=0.65, fmeasure=0.41935483870967744), high=Score(precision=0.30952380952380953, recall=0.65, fmeasure=0.41935483870967744)),\n",
       " 'rougeLsum': AggregateScore(low=Score(precision=0.30952380952380953, recall=0.65, fmeasure=0.41935483870967744), mid=Score(precision=0.30952380952380953, recall=0.65, fmeasure=0.41935483870967744), high=Score(precision=0.30952380952380953, recall=0.65, fmeasure=0.41935483870967744))}"
      ]
     },
     "execution_count": 19,
     "metadata": {},
     "output_type": "execute_result"
    }
   ],
   "source": [
    "# Rouge\n",
    "\n",
    "sum_scores = rouge_score.compute(\n",
    "    predictions=[predictions], references=[references]\n",
    ")\n",
    "sum_scores"
   ]
  },
  {
   "cell_type": "markdown",
   "id": "fe037884",
   "metadata": {},
   "source": [
    "## Headlines"
   ]
  },
  {
   "cell_type": "markdown",
   "id": "e303977b",
   "metadata": {},
   "source": [
    "### Модель RuBertTelegramHeadlines"
   ]
  },
  {
   "cell_type": "code",
   "execution_count": 24,
   "id": "95edc2ce",
   "metadata": {},
   "outputs": [],
   "source": [
    "# Загрузка модели\n",
    "\n",
    "from transformers import AutoTokenizer, EncoderDecoderModel\n",
    "\n",
    "model_name = \"IlyaGusev/rubert_telegram_headlines\"\n",
    "tokenizer = AutoTokenizer.from_pretrained(model_name, do_lower_case=False, do_basic_tokenize=False, strip_accents=False)\n",
    "model = EncoderDecoderModel.from_pretrained(model_name)"
   ]
  },
  {
   "cell_type": "code",
   "execution_count": 25,
   "id": "97636771",
   "metadata": {},
   "outputs": [
    {
     "name": "stdout",
     "output_type": "stream",
     "text": [
      "Predicted headline:  В Кремле прошел самый лучший в России онлайн-концерт\n",
      "Real headline:  «Люди в Бурятии очень талантливые»\n"
     ]
    }
   ],
   "source": [
    "# Пример работы модели\n",
    "\n",
    "article_text = dataset['text'][1]\n",
    "\n",
    "input_ids = tokenizer(\n",
    "    [article_text],\n",
    "    add_special_tokens=True,\n",
    "    max_length=256,\n",
    "    padding=\"max_length\",\n",
    "    truncation=True,\n",
    "    return_tensors=\"pt\",\n",
    ")[\"input_ids\"]\n",
    "\n",
    "output_ids = model.generate(\n",
    "    input_ids=input_ids,\n",
    "    max_length=64,\n",
    "    no_repeat_ngram_size=3,\n",
    "    num_beams=10,\n",
    "    top_p=0.95\n",
    ")[0]\n",
    "\n",
    "headline = tokenizer.decode(output_ids, skip_special_tokens=True, clean_up_tokenization_spaces=True)\n",
    "print('Predicted headline: ', headline)\n",
    "print('Real headline: ', dataset['title'][1])"
   ]
  },
  {
   "cell_type": "code",
   "execution_count": 26,
   "id": "043d506a",
   "metadata": {},
   "outputs": [],
   "source": [
    "# Генерация заголовков для всего датасета\n",
    "\n",
    "data = dataset['text']\n",
    "\n",
    "headlines = []\n",
    "\n",
    "for row in data:\n",
    "    input_ids = tokenizer(\n",
    "        [row],\n",
    "        add_special_tokens=True,\n",
    "        max_length=256,\n",
    "        padding=\"max_length\",\n",
    "        truncation=True,\n",
    "        return_tensors=\"pt\",\n",
    "    )[\"input_ids\"]\n",
    "\n",
    "    output_ids = model.generate(\n",
    "        input_ids=input_ids,\n",
    "        max_length=64,\n",
    "        no_repeat_ngram_size=3,\n",
    "        num_beams=10,\n",
    "        top_p=0.95\n",
    "    )[0]\n",
    "    \n",
    "    headline = tokenizer.decode(output_ids, skip_special_tokens=True, clean_up_tokenization_spaces=True)\n",
    "    headlines.append(headline)"
   ]
  },
  {
   "cell_type": "code",
   "execution_count": 27,
   "id": "38f8c6cb",
   "metadata": {},
   "outputs": [],
   "source": [
    "dataset['pred_headline'] = headlines"
   ]
  },
  {
   "cell_type": "code",
   "execution_count": 28,
   "id": "b9043db7",
   "metadata": {},
   "outputs": [
    {
     "data": {
      "text/html": [
       "<div>\n",
       "<style scoped>\n",
       "    .dataframe tbody tr th:only-of-type {\n",
       "        vertical-align: middle;\n",
       "    }\n",
       "\n",
       "    .dataframe tbody tr th {\n",
       "        vertical-align: top;\n",
       "    }\n",
       "\n",
       "    .dataframe thead th {\n",
       "        text-align: right;\n",
       "    }\n",
       "</style>\n",
       "<table border=\"1\" class=\"dataframe\">\n",
       "  <thead>\n",
       "    <tr style=\"text-align: right;\">\n",
       "      <th></th>\n",
       "      <th>text</th>\n",
       "      <th>title</th>\n",
       "      <th>summary</th>\n",
       "      <th>pred_summary</th>\n",
       "      <th>pred_headline</th>\n",
       "    </tr>\n",
       "  </thead>\n",
       "  <tbody>\n",
       "    <tr>\n",
       "      <th>1</th>\n",
       "      <td>Около 11 тысяч зрителей увидели все самое лучш...</td>\n",
       "      <td>«Люди в Бурятии очень талантливые»</td>\n",
       "      <td>25 и 26 февраля в Кремлевском дворце съездов п...</td>\n",
       "      <td>В Кремле прошла премьера новогоднего шоу «Танц...</td>\n",
       "      <td>В Кремле прошел самый лучший в России онлайн-к...</td>\n",
       "    </tr>\n",
       "    <tr>\n",
       "      <th>10</th>\n",
       "      <td>Спрос на бензин в России в 2019 году упал на 1...</td>\n",
       "      <td>Дорогое удовольствие: почему снизился спрос на...</td>\n",
       "      <td>Рекордное снижение спроса на бензин зафиксиров...</td>\n",
       "      <td>Спрос на бензин в России в 2019 году упал на 1...</td>\n",
       "      <td>«Известия»: Спрос на бензин в России упал на 1 %</td>\n",
       "    </tr>\n",
       "    <tr>\n",
       "      <th>3</th>\n",
       "      <td>Народная артистка РСФСР Надежда Бабкина в инте...</td>\n",
       "      <td>«Он очень переживал»: Бабкина об отношениях с ...</td>\n",
       "      <td>Народная артистка РСФСР Надежда Бабкина в инте...</td>\n",
       "      <td>Народная артистка РСФСР Надежда Бабкина расска...</td>\n",
       "      <td>Надежда Бабкина рассказала о романе с гражданс...</td>\n",
       "    </tr>\n",
       "  </tbody>\n",
       "</table>\n",
       "</div>"
      ],
      "text/plain": [
       "                                                 text  \\\n",
       "1   Около 11 тысяч зрителей увидели все самое лучш...   \n",
       "10  Спрос на бензин в России в 2019 году упал на 1...   \n",
       "3   Народная артистка РСФСР Надежда Бабкина в инте...   \n",
       "\n",
       "                                                title  \\\n",
       "1                  «Люди в Бурятии очень талантливые»   \n",
       "10  Дорогое удовольствие: почему снизился спрос на...   \n",
       "3   «Он очень переживал»: Бабкина об отношениях с ...   \n",
       "\n",
       "                                              summary  \\\n",
       "1   25 и 26 февраля в Кремлевском дворце съездов п...   \n",
       "10  Рекордное снижение спроса на бензин зафиксиров...   \n",
       "3   Народная артистка РСФСР Надежда Бабкина в инте...   \n",
       "\n",
       "                                         pred_summary  \\\n",
       "1   В Кремле прошла премьера новогоднего шоу «Танц...   \n",
       "10  Спрос на бензин в России в 2019 году упал на 1...   \n",
       "3   Народная артистка РСФСР Надежда Бабкина расска...   \n",
       "\n",
       "                                        pred_headline  \n",
       "1   В Кремле прошел самый лучший в России онлайн-к...  \n",
       "10   «Известия»: Спрос на бензин в России упал на 1 %  \n",
       "3   Надежда Бабкина рассказала о романе с гражданс...  "
      ]
     },
     "execution_count": 28,
     "metadata": {},
     "output_type": "execute_result"
    }
   ],
   "source": [
    "dataset.sample(3)"
   ]
  },
  {
   "cell_type": "code",
   "execution_count": 29,
   "id": "da2abf4f",
   "metadata": {},
   "outputs": [],
   "source": [
    "predictions = dataset['pred_headline']\n",
    "references = dataset['title']"
   ]
  },
  {
   "cell_type": "code",
   "execution_count": 30,
   "id": "65f72343",
   "metadata": {},
   "outputs": [
    {
     "data": {
      "text/plain": [
       "{'rouge1': AggregateScore(low=Score(precision=0.5, recall=1.0, fmeasure=0.6666666666666666), mid=Score(precision=0.5, recall=1.0, fmeasure=0.6666666666666666), high=Score(precision=0.5, recall=1.0, fmeasure=0.6666666666666666)),\n",
       " 'rouge2': AggregateScore(low=Score(precision=0.2222222222222222, recall=0.5, fmeasure=0.30769230769230765), mid=Score(precision=0.2222222222222222, recall=0.5, fmeasure=0.30769230769230765), high=Score(precision=0.2222222222222222, recall=0.5, fmeasure=0.30769230769230765)),\n",
       " 'rougeL': AggregateScore(low=Score(precision=0.5, recall=1.0, fmeasure=0.6666666666666666), mid=Score(precision=0.5, recall=1.0, fmeasure=0.6666666666666666), high=Score(precision=0.5, recall=1.0, fmeasure=0.6666666666666666)),\n",
       " 'rougeLsum': AggregateScore(low=Score(precision=0.5, recall=1.0, fmeasure=0.6666666666666666), mid=Score(precision=0.5, recall=1.0, fmeasure=0.6666666666666666), high=Score(precision=0.5, recall=1.0, fmeasure=0.6666666666666666))}"
      ]
     },
     "execution_count": 30,
     "metadata": {},
     "output_type": "execute_result"
    }
   ],
   "source": [
    "# Rouge\n",
    "\n",
    "head_scores = rouge_score.compute(\n",
    "    predictions=[predictions], references=[references]\n",
    ")\n",
    "head_scores"
   ]
  }
 ],
 "metadata": {
  "kernelspec": {
   "display_name": "Python 3 (ipykernel)",
   "language": "python",
   "name": "python3"
  },
  "language_info": {
   "codemirror_mode": {
    "name": "ipython",
    "version": 3
   },
   "file_extension": ".py",
   "mimetype": "text/x-python",
   "name": "python",
   "nbconvert_exporter": "python",
   "pygments_lexer": "ipython3",
   "version": "3.9.13"
  }
 },
 "nbformat": 4,
 "nbformat_minor": 5
}
