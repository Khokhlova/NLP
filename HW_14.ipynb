{
 "cells": [
  {
   "cell_type": "markdown",
   "id": "643ab5ec",
   "metadata": {},
   "source": [
    "# Transfer learning"
   ]
  },
  {
   "cell_type": "markdown",
   "id": "8f740219",
   "metadata": {},
   "source": [
    "### Обучить модель которая будет генерировать заголовки к постам"
   ]
  },
  {
   "cell_type": "code",
   "execution_count": 1,
   "id": "bdef513f",
   "metadata": {},
   "outputs": [],
   "source": [
    "# Скачивание датасета\n",
    "# !wget https://www.dropbox.com/s/ykqk49a8avlmnaf/ru_all_split.tar.gz"
   ]
  },
  {
   "cell_type": "code",
   "execution_count": 2,
   "id": "2086c98e",
   "metadata": {},
   "outputs": [],
   "source": [
    "# Разархивация\n",
    "\n",
    "# import tarfile\n",
    "\n",
    "# tar = tarfile.open(\"ru_all_split.tar.gz\")\n",
    "# tar.extractall(path='./ru_all_split')\n",
    "# tar.close()"
   ]
  },
  {
   "cell_type": "code",
   "execution_count": 3,
   "id": "55208862",
   "metadata": {},
   "outputs": [
    {
     "data": {
      "text/plain": [
       "['.DS_Store', 'ru_all_val.jsonl', 'ru_all_train.jsonl', 'ru_all_test.jsonl']"
      ]
     },
     "execution_count": 3,
     "metadata": {},
     "output_type": "execute_result"
    }
   ],
   "source": [
    "# Список файлов\n",
    "\n",
    "import os\n",
    "\n",
    "os.listdir('./ru_all_split')"
   ]
  },
  {
   "cell_type": "code",
   "execution_count": 4,
   "id": "85550d5f",
   "metadata": {},
   "outputs": [],
   "source": [
    "# Импорт данных в pandas dataframe\n",
    "\n",
    "import pandas as pd\n",
    "\n",
    "train_data = pd.read_json('./ru_all_split/ru_all_train.jsonl', lines=True) \n",
    "test_data = pd.read_json('./ru_all_split/ru_all_test.jsonl', lines=True) "
   ]
  },
  {
   "cell_type": "code",
   "execution_count": 5,
   "id": "769ffcf5",
   "metadata": {},
   "outputs": [],
   "source": [
    "# Импорт данных в датасет hugging face\n",
    "\n",
    "from datasets import Dataset\n",
    "\n",
    "train_dataset = Dataset.from_pandas(train_data)\n",
    "test_dataset = Dataset.from_pandas(test_data)"
   ]
  },
  {
   "cell_type": "code",
   "execution_count": 6,
   "id": "739396ce",
   "metadata": {},
   "outputs": [],
   "source": [
    "# Ограничим размер датасета (при исходном умирает ядро)\n",
    "\n",
    "train_dataset = train_dataset.select(range(100))\n",
    "test_dataset = test_dataset.select(range(50))"
   ]
  },
  {
   "cell_type": "code",
   "execution_count": 7,
   "id": "23a63e92",
   "metadata": {},
   "outputs": [
    {
     "data": {
      "text/plain": [
       "'В разных районах Омска появились свои \"Эйфелевы башни\"'"
      ]
     },
     "execution_count": 7,
     "metadata": {},
     "output_type": "execute_result"
    }
   ],
   "source": [
    "train_dataset['title'][0]"
   ]
  },
  {
   "cell_type": "code",
   "execution_count": 8,
   "id": "7cb333ae",
   "metadata": {},
   "outputs": [],
   "source": [
    "# Модель\n",
    "\n",
    "model_name = \"IlyaGusev/rut5_base_sum_gazeta\""
   ]
  },
  {
   "cell_type": "code",
   "execution_count": 9,
   "id": "8a7cb4c1",
   "metadata": {},
   "outputs": [],
   "source": [
    "def len_tok(text):\n",
    "    return len(text.split())"
   ]
  },
  {
   "cell_type": "code",
   "execution_count": 10,
   "id": "a35dbc09",
   "metadata": {},
   "outputs": [
    {
     "data": {
      "text/plain": [
       "(710, 23)"
      ]
     },
     "execution_count": 10,
     "metadata": {},
     "output_type": "execute_result"
    }
   ],
   "source": [
    "# Максимальная длинна текста и заголовка\n",
    "\n",
    "max_len_text, max_len_tl = max(map(len_tok, train_dataset['text'])), max(map(len_tok, train_dataset['title']))\n",
    "max_len_text, max_len_tl"
   ]
  },
  {
   "cell_type": "code",
   "execution_count": 11,
   "id": "65313f01",
   "metadata": {},
   "outputs": [
    {
     "data": {
      "text/plain": [
       "'Японские учёные обнаружили новый вид живых существ'"
      ]
     },
     "execution_count": 11,
     "metadata": {},
     "output_type": "execute_result"
    }
   ],
   "source": [
    "max(train_dataset['title'])"
   ]
  },
  {
   "cell_type": "code",
   "execution_count": 12,
   "id": "dd5d2a9e",
   "metadata": {},
   "outputs": [
    {
     "name": "stderr",
     "output_type": "stream",
     "text": [
      "Parameter 'function'=<function tokenize at 0x3a0fe3e50> of the transform datasets.arrow_dataset.Dataset._map_single couldn't be hashed properly, a random hash was used instead. Make sure your transforms and parameters are serializable with pickle or dill for the dataset fingerprinting and caching to work. If you reuse this transform, the caching mechanism will consider it to be different from the previous calls and recompute everything. This warning is only showed once. Subsequent hashing failures won't be showed.\n"
     ]
    },
    {
     "data": {
      "application/vnd.jupyter.widget-view+json": {
       "model_id": "e347744bac15471ab160cf4048e562c4",
       "version_major": 2,
       "version_minor": 0
      },
      "text/plain": [
       "  0%|          | 0/13 [00:00<?, ?ba/s]"
      ]
     },
     "metadata": {},
     "output_type": "display_data"
    },
    {
     "data": {
      "application/vnd.jupyter.widget-view+json": {
       "model_id": "d92cafa179554722b0dc23d68f4985e0",
       "version_major": 2,
       "version_minor": 0
      },
      "text/plain": [
       "  0%|          | 0/7 [00:00<?, ?ba/s]"
      ]
     },
     "metadata": {},
     "output_type": "display_data"
    }
   ],
   "source": [
    "# Токенизация\n",
    "\n",
    "from transformers import AutoTokenizer\n",
    "\n",
    "tokenizer = AutoTokenizer.from_pretrained(model_name)\n",
    "\n",
    "def tokenize(batch):\n",
    "    tokenized_input = tokenizer(batch['text'], padding='max_length', truncation=True, max_length=max_len_text)\n",
    "    tokenized_label = tokenizer(batch['title'], padding='max_length', truncation=True, max_length=max_len_tl)\n",
    "\n",
    "    tokenized_input['labels'] = tokenized_label['input_ids']\n",
    "\n",
    "    return tokenized_input\n",
    "\n",
    "train_dataset = train_dataset.map(tokenize, batched=True, batch_size=8)\n",
    "test_dataset = test_dataset.map(tokenize, batched=True, batch_size=8)\n",
    "\n",
    "train_dataset.set_format('numpy', columns=['input_ids', 'attention_mask', 'labels'])\n",
    "test_dataset.set_format('numpy', columns=['input_ids', 'attention_mask', 'labels'])"
   ]
  },
  {
   "cell_type": "code",
   "execution_count": 13,
   "id": "6ea2a8d2",
   "metadata": {},
   "outputs": [],
   "source": [
    "# Сохранение на диск\n",
    "\n",
    "train_dataset.save_to_disk('./ru_all_split/train')\n",
    "test_dataset.save_to_disk('./ru_all_split/test')"
   ]
  },
  {
   "cell_type": "code",
   "execution_count": 14,
   "id": "2b74a3a3",
   "metadata": {},
   "outputs": [],
   "source": [
    "# Загрузка модели\n",
    "\n",
    "from transformers import T5ForConditionalGeneration, Trainer, TrainingArguments\n",
    "\n",
    "model = T5ForConditionalGeneration.from_pretrained(model_name)"
   ]
  },
  {
   "cell_type": "code",
   "execution_count": 15,
   "id": "4cfb2b32",
   "metadata": {},
   "outputs": [],
   "source": [
    "# Тренировочные аргументы\n",
    "\n",
    "output_dir = './ru_all_split/output'\n",
    "\n",
    "training_args = TrainingArguments(\n",
    "    output_dir=output_dir,\n",
    "    num_train_epochs=3,\n",
    "    per_device_train_batch_size=8,\n",
    "    per_device_eval_batch_size=8,\n",
    "    eval_accumulation_steps=1, # Number of eval steps to keep in GPU (the higher, the mor vRAM used)\n",
    "    prediction_loss_only=True, # If I need co compute only loss and not other metrics, setting this to true will use less RAM\n",
    "    learning_rate=0.000001,\n",
    "    evaluation_strategy='steps', # Run evaluation every eval_steps\n",
    "    save_steps=1000, # How often to save a checkpoint\n",
    "    save_total_limit=1, # Number of maximum checkpoints to save\n",
    "    remove_unused_columns=True, # Removes useless columns from the dataset\n",
    "    run_name='run_headlines', # Wandb run name\n",
    "    logging_steps=500, # How often to log loss to wandb\n",
    "    eval_steps=500, # How often to run evaluation on the val_set\n",
    "    logging_first_step=False, # Whether to log also the very first training step to wandb\n",
    "    load_best_model_at_end=True, # Whether to load the best model found at each evaluation.\n",
    "    metric_for_best_model=\"loss\", # Use loss to evaluate best model.\n",
    "    greater_is_better=False # Best model is the one with the lowest loss, not highest.\n",
    ")"
   ]
  },
  {
   "cell_type": "code",
   "execution_count": 16,
   "id": "e4cbc882",
   "metadata": {},
   "outputs": [],
   "source": [
    "# Обучение\n",
    "\n",
    "trainer = Trainer(\n",
    "    model=model,\n",
    "    args=training_args,\n",
    "    train_dataset=train_dataset,\n",
    "    eval_dataset=test_dataset\n",
    ")\n",
    "\n"
   ]
  },
  {
   "cell_type": "code",
   "execution_count": 17,
   "id": "bc7232bd",
   "metadata": {},
   "outputs": [
    {
     "name": "stderr",
     "output_type": "stream",
     "text": [
      "The following columns in the training set don't have a corresponding argument in `T5ForConditionalGeneration.forward` and have been ignored: timestamp, text, title, url. If timestamp, text, title, url are not expected by `T5ForConditionalGeneration.forward`,  you can safely ignore this message.\n",
      "/Users/evgeniya/miniforge3/lib/python3.9/site-packages/transformers/optimization.py:306: FutureWarning: This implementation of AdamW is deprecated and will be removed in a future version. Use the PyTorch implementation torch.optim.AdamW instead, or set `no_deprecation_warning=True` to disable this warning\n",
      "  warnings.warn(\n",
      "***** Running training *****\n",
      "  Num examples = 100\n",
      "  Num Epochs = 3\n",
      "  Instantaneous batch size per device = 8\n",
      "  Total train batch size (w. parallel, distributed & accumulation) = 8\n",
      "  Gradient Accumulation steps = 1\n",
      "  Total optimization steps = 39\n",
      "/Users/evgeniya/miniforge3/lib/python3.9/site-packages/transformers/data/data_collator.py:131: UserWarning: Creating a tensor from a list of numpy.ndarrays is extremely slow. Please consider converting the list to a single numpy.ndarray with numpy.array() before converting to a tensor. (Triggered internally at  /Users/runner/miniforge3/conda-bld/pytorch-recipe_1654951098057/work/torch/csrc/utils/tensor_new.cpp:210.)\n",
      "  batch[k] = torch.tensor([f[k] for f in features])\n"
     ]
    },
    {
     "data": {
      "text/html": [
       "\n",
       "    <div>\n",
       "      \n",
       "      <progress value='39' max='39' style='width:300px; height:20px; vertical-align: middle;'></progress>\n",
       "      [39/39 46:49, Epoch 3/3]\n",
       "    </div>\n",
       "    <table border=\"1\" class=\"dataframe\">\n",
       "  <thead>\n",
       " <tr style=\"text-align: left;\">\n",
       "      <th>Step</th>\n",
       "      <th>Training Loss</th>\n",
       "      <th>Validation Loss</th>\n",
       "    </tr>\n",
       "  </thead>\n",
       "  <tbody>\n",
       "  </tbody>\n",
       "</table><p>"
      ],
      "text/plain": [
       "<IPython.core.display.HTML object>"
      ]
     },
     "metadata": {},
     "output_type": "display_data"
    },
    {
     "name": "stderr",
     "output_type": "stream",
     "text": [
      "\n",
      "\n",
      "Training completed. Do not forget to share your model on huggingface.co/models =)\n",
      "\n",
      "\n"
     ]
    },
    {
     "data": {
      "text/plain": [
       "TrainOutput(global_step=39, training_loss=12.268614157652243, metrics={'train_runtime': 2885.4741, 'train_samples_per_second': 0.104, 'train_steps_per_second': 0.014, 'total_flos': 282781117440000.0, 'train_loss': 12.268614157652243, 'epoch': 3.0})"
      ]
     },
     "execution_count": 17,
     "metadata": {},
     "output_type": "execute_result"
    }
   ],
   "source": [
    "trainer.train()"
   ]
  },
  {
   "cell_type": "code",
   "execution_count": 18,
   "id": "abeeeb94",
   "metadata": {},
   "outputs": [
    {
     "name": "stderr",
     "output_type": "stream",
     "text": [
      "Saving model checkpoint to ./ru_all_split/output/model\n",
      "Configuration saved in ./ru_all_split/output/model/config.json\n",
      "Model weights saved in ./ru_all_split/output/model/pytorch_model.bin\n"
     ]
    }
   ],
   "source": [
    "# Сохранение модели\n",
    "\n",
    "trainer.save_model(output_dir + '/model')"
   ]
  },
  {
   "cell_type": "code",
   "execution_count": 23,
   "id": "bb2f0449",
   "metadata": {},
   "outputs": [],
   "source": [
    "# Индекс для создания заголовка\n",
    "\n",
    "index = 11"
   ]
  },
  {
   "cell_type": "code",
   "execution_count": 24,
   "id": "b9033a92",
   "metadata": {},
   "outputs": [],
   "source": [
    "# Работа модели\n",
    "\n",
    "import torch\n",
    "\n",
    "input_text = test_dataset['text'][index]\n",
    "\n",
    "with torch.no_grad():\n",
    "    tokenized_text = tokenizer(input_text, truncation=True, padding=True, return_tensors='pt')\n",
    "\n",
    "    source_ids = tokenized_text['input_ids']\n",
    "    source_mask = tokenized_text['attention_mask'] \n",
    "\n",
    "    generated_ids = model.generate(\n",
    "        input_ids = source_ids,\n",
    "        attention_mask = source_mask, \n",
    "        max_length=512,\n",
    "        num_beams=7,\n",
    "        temperature = 1.3,\n",
    "        repetition_penalty=1, \n",
    "        length_penalty=1, \n",
    "        early_stopping=True,\n",
    "        no_repeat_ngram_size=2\n",
    "    )\n",
    "\n",
    "    pred = tokenizer.decode(generated_ids[0], skip_special_tokens=True, clean_up_tokenization_spaces=True)"
   ]
  },
  {
   "cell_type": "code",
   "execution_count": 25,
   "id": "6e63770e",
   "metadata": {},
   "outputs": [
    {
     "name": "stdout",
     "output_type": "stream",
     "text": [
      "\n",
      "Исходный заголовок:\n",
      "Шнабель из ЕЦБ: решение конституционного суда Германии напрямую на нас не повлияет -- FT\n",
      "\n",
      "Предсказанный заголовок:\n",
      "Решение Конституционного суда Германии против программы покупки облигаций Европейского центрального банка не окажет прямого влияния на ЕЦБ и не приведет к тому, что Бундесбанку придется выйти из схемы, считают эксперты.\n"
     ]
    }
   ],
   "source": [
    "# Сравнение исходного и предсказанного заголовка\n",
    "\n",
    "print('\\nИсходный заголовок:\\n{}'.format(test_dataset['title'][index]))\n",
    "print('\\nПредсказанный заголовок:\\n{}'.format(pred))"
   ]
  }
 ],
 "metadata": {
  "kernelspec": {
   "display_name": "Python 3 (ipykernel)",
   "language": "python",
   "name": "python3"
  },
  "language_info": {
   "codemirror_mode": {
    "name": "ipython",
    "version": 3
   },
   "file_extension": ".py",
   "mimetype": "text/x-python",
   "name": "python",
   "nbconvert_exporter": "python",
   "pygments_lexer": "ipython3",
   "version": "3.9.13"
  }
 },
 "nbformat": 4,
 "nbformat_minor": 5
}
