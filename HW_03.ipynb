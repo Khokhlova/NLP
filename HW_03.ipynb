{
 "cells": [
  {
   "cell_type": "markdown",
   "metadata": {},
   "source": [
    "## Поиск похожих по эмбеддингам"
   ]
  },
  {
   "cell_type": "markdown",
   "metadata": {},
   "source": [
    "Скачиваем датасет ([источник](http://study.mokoron.com/)): [положительные](https://www.dropbox.com/s/fnpq3z4bcnoktiv/positive.csv?dl=0), [отрицательные](https://www.dropbox.com/s/r6u59ljhhjdg6j0/negative.csv)."
   ]
  },
  {
   "cell_type": "code",
   "execution_count": 1,
   "metadata": {},
   "outputs": [],
   "source": [
    "# Импорт библиотек\n",
    "\n",
    "import pandas as pd\n",
    "import numpy as np\n",
    "import re\n",
    "import string\n",
    "from pymorphy2 import MorphAnalyzer\n",
    "from stop_words import get_stop_words\n",
    "import annoy\n",
    "from gensim.models import Word2Vec, FastText"
   ]
  },
  {
   "cell_type": "markdown",
   "metadata": {},
   "source": [
    "1. Объединить в одну выборку"
   ]
  },
  {
   "cell_type": "code",
   "execution_count": 2,
   "metadata": {},
   "outputs": [],
   "source": [
    "# Загрузка данных\n",
    "\n",
    "df1 = pd.read_csv('positive.csv', sep=';', header = None, usecols = [3], names=['tweet'])\n",
    "df2 = pd.read_csv('negative.csv', sep=';', header = None, usecols = [3], names=['tweet'])"
   ]
  },
  {
   "cell_type": "code",
   "execution_count": 3,
   "metadata": {},
   "outputs": [],
   "source": [
    "# Объединение двух датафреймов\n",
    "\n",
    "df = df1.append(df2, ignore_index = True, sort = False)"
   ]
  },
  {
   "cell_type": "code",
   "execution_count": 4,
   "metadata": {},
   "outputs": [
    {
     "data": {
      "text/html": [
       "<div>\n",
       "<style scoped>\n",
       "    .dataframe tbody tr th:only-of-type {\n",
       "        vertical-align: middle;\n",
       "    }\n",
       "\n",
       "    .dataframe tbody tr th {\n",
       "        vertical-align: top;\n",
       "    }\n",
       "\n",
       "    .dataframe thead th {\n",
       "        text-align: right;\n",
       "    }\n",
       "</style>\n",
       "<table border=\"1\" class=\"dataframe\">\n",
       "  <thead>\n",
       "    <tr style=\"text-align: right;\">\n",
       "      <th></th>\n",
       "      <th>tweet</th>\n",
       "    </tr>\n",
       "  </thead>\n",
       "  <tbody>\n",
       "    <tr>\n",
       "      <th>0</th>\n",
       "      <td>@first_timee хоть я и школота, но поверь, у на...</td>\n",
       "    </tr>\n",
       "    <tr>\n",
       "      <th>1</th>\n",
       "      <td>Да, все-таки он немного похож на него. Но мой ...</td>\n",
       "    </tr>\n",
       "    <tr>\n",
       "      <th>2</th>\n",
       "      <td>RT @KatiaCheh: Ну ты идиотка) я испугалась за ...</td>\n",
       "    </tr>\n",
       "    <tr>\n",
       "      <th>3</th>\n",
       "      <td>RT @digger2912: \"Кто то в углу сидит и погибае...</td>\n",
       "    </tr>\n",
       "    <tr>\n",
       "      <th>4</th>\n",
       "      <td>@irina_dyshkant Вот что значит страшилка :D\\nН...</td>\n",
       "    </tr>\n",
       "  </tbody>\n",
       "</table>\n",
       "</div>"
      ],
      "text/plain": [
       "                                               tweet\n",
       "0  @first_timee хоть я и школота, но поверь, у на...\n",
       "1  Да, все-таки он немного похож на него. Но мой ...\n",
       "2  RT @KatiaCheh: Ну ты идиотка) я испугалась за ...\n",
       "3  RT @digger2912: \"Кто то в углу сидит и погибае...\n",
       "4  @irina_dyshkant Вот что значит страшилка :D\\nН..."
      ]
     },
     "execution_count": 4,
     "metadata": {},
     "output_type": "execute_result"
    }
   ],
   "source": [
    "df.head(5)"
   ]
  },
  {
   "cell_type": "markdown",
   "metadata": {},
   "source": [
    "2. На основе word2vec/fasttext/glove/слоя Embedding реализовать метод поиска ближайших твитов на вход метода должен приходить запрос (какой-то твит, вопрос) и количество вариантов вывода к примеру 5-ть, ваш метод должен возвращать 5-ть ближайших твитов к этому запросу."
   ]
  },
  {
   "cell_type": "code",
   "execution_count": 5,
   "metadata": {},
   "outputs": [],
   "source": [
    "# Препроцессинг текста\n",
    "\n",
    "def preprocess_txt(line):\n",
    "    line = re.sub(r'RT*', '', line)\n",
    "    line = re.sub(r'@[\\w]*', ' ', line)\n",
    "    spls = \"\".join(i for i in line.strip() if i not in exclude).split()\n",
    "    spls = [morpher.parse(i.lower())[0].normal_form for i in spls]\n",
    "    spls = [i for i in spls if i not in sw and i != \"\"]\n",
    "    return spls"
   ]
  },
  {
   "cell_type": "code",
   "execution_count": 6,
   "metadata": {},
   "outputs": [],
   "source": [
    "assert True\n",
    "\n",
    "sentences = []\n",
    "\n",
    "morpher = MorphAnalyzer()\n",
    "sw = set(get_stop_words(\"ru\"))\n",
    "exclude = set(string.punctuation)\n",
    "\n",
    "for line in df['tweet']:\n",
    "    spls = preprocess_txt(line)\n",
    "    sentences.append(spls)"
   ]
  },
  {
   "cell_type": "code",
   "execution_count": 7,
   "metadata": {},
   "outputs": [],
   "source": [
    "sentences = [i for i in sentences if len(i) > 2]"
   ]
  },
  {
   "cell_type": "code",
   "execution_count": 8,
   "metadata": {},
   "outputs": [],
   "source": [
    "# Создание модели Word2Vec\n",
    "\n",
    "modelW2V = Word2Vec(sentences=sentences, size=300, window=5, min_count=3)"
   ]
  },
  {
   "cell_type": "code",
   "execution_count": 9,
   "metadata": {},
   "outputs": [],
   "source": [
    "# Создание модели FastText\n",
    "\n",
    "modelFT = FastText(sentences=sentences, size=300, min_count=3, window=5, workers=8)"
   ]
  },
  {
   "cell_type": "code",
   "execution_count": 11,
   "metadata": {},
   "outputs": [
    {
     "data": {
      "text/plain": [
       "True"
      ]
     },
     "execution_count": 11,
     "metadata": {},
     "output_type": "execute_result"
    }
   ],
   "source": [
    "w2v_index = annoy.AnnoyIndex(300 ,'angular')\n",
    "ft_index = annoy.AnnoyIndex(300 ,'angular')\n",
    "\n",
    "counter = 0\n",
    "index_map = {}\n",
    "\n",
    "for line in df['tweet']:\n",
    "    n_w2v = 0\n",
    "    n_ft = 0\n",
    "    index_map[counter] = line\n",
    "    tweet = preprocess_txt(line)\n",
    "    \n",
    "    vector_w2v = np.zeros(300)\n",
    "    vector_ft = np.zeros(300)\n",
    "    for word in tweet:\n",
    "        if word in modelW2V.wv:\n",
    "            vector_w2v += modelW2V.wv[word]\n",
    "            n_w2v += 1\n",
    "        if word in modelFT.wv:\n",
    "            vector_ft += modelFT.wv[word]\n",
    "            n_ft += 1\n",
    "    if n_w2v > 0:\n",
    "        vector_w2v = vector_w2v / n_w2v\n",
    "    if n_ft > 0:\n",
    "        vector_ft = vector_ft / n_ft\n",
    "    w2v_index.add_item(counter, vector_w2v)\n",
    "    ft_index.add_item(counter, vector_ft)\n",
    "    counter += 1\n",
    "\n",
    "    if counter > 100000:\n",
    "        break\n",
    "\n",
    "w2v_index.build(10)\n",
    "ft_index.build(10)"
   ]
  },
  {
   "cell_type": "code",
   "execution_count": 12,
   "metadata": {},
   "outputs": [],
   "source": [
    "def get_response(question, index, model, index_map):\n",
    "    question = preprocess_txt(question)\n",
    "    vector = np.zeros(300)\n",
    "    norm = 0\n",
    "    for word in question:\n",
    "        if word in model.wv:\n",
    "            vector += model.wv[word]\n",
    "            norm += 1\n",
    "    if norm > 0:\n",
    "        vector = vector / norm\n",
    "    answers = index.get_nns_by_vector(vector, 5, )\n",
    "    return [index_map[i] for i in answers]"
   ]
  },
  {
   "cell_type": "markdown",
   "metadata": {},
   "source": [
    "3. Проверить насколько хорошо работают подходы"
   ]
  },
  {
   "cell_type": "code",
   "execution_count": 13,
   "metadata": {},
   "outputs": [],
   "source": [
    "TEXT = \"сегодня хорошая погода\""
   ]
  },
  {
   "cell_type": "code",
   "execution_count": 14,
   "metadata": {},
   "outputs": [
    {
     "data": {
      "text/plain": [
       "['хороший день..такая погода приятная)снежочек..только скользко блеать.',\n",
       " 'Погода прекрасна, настрій піднесений, життя чудове!;)',\n",
       " 'Доброе утро:)На улице  погода хороша! http://t.co/0WunHIGLSC',\n",
       " 'Прекрасная погода за окном:)Сейчас побегу по делам...',\n",
       " 'RT @MissUFO: Прогноз погоды для ИТ на ближайшее время ) http://t.co/hj6x0KyK8Y']"
      ]
     },
     "execution_count": 14,
     "metadata": {},
     "output_type": "execute_result"
    }
   ],
   "source": [
    "get_response(TEXT, w2v_index, modelW2V, index_map)"
   ]
  },
  {
   "cell_type": "code",
   "execution_count": 15,
   "metadata": {},
   "outputs": [
    {
     "data": {
      "text/plain": [
       "['@agalitsky солнечно! :) привезите в москву кусочек хорошей погоды, хотя сегодня и здесь солнце весь день!',\n",
       " '@winteat спасибо и тебе приятного денечка, хоть погода и не айс :) @HelenaBrts @akutata11 @ira_dudchik @nalbakrinova @Pravodumru @YDubos',\n",
       " 'Погода сегодня хорошая) Маленький снежок и мороза не чувствуется) В этом году #ялюблюзиму)',\n",
       " '@Pravodumru Я рад, что все отлично:) Как там погодка у вас?',\n",
       " 'Хороший сегодня всё-таки день)))снежок такой классный на улице!)']"
      ]
     },
     "execution_count": 15,
     "metadata": {},
     "output_type": "execute_result"
    }
   ],
   "source": [
    "get_response(TEXT, ft_index, modelFT, index_map)"
   ]
  },
  {
   "cell_type": "markdown",
   "metadata": {},
   "source": [
    "Обе модели справились с задачей хорошо, выдались релевантные твиты."
   ]
  }
 ],
 "metadata": {
  "kernelspec": {
   "display_name": "Python 3",
   "language": "python",
   "name": "python3"
  },
  "language_info": {
   "codemirror_mode": {
    "name": "ipython",
    "version": 3
   },
   "file_extension": ".py",
   "mimetype": "text/x-python",
   "name": "python",
   "nbconvert_exporter": "python",
   "pygments_lexer": "ipython3",
   "version": "3.8.5"
  }
 },
 "nbformat": 4,
 "nbformat_minor": 4
}
