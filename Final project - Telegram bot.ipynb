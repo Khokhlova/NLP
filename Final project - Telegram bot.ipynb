{
 "cells": [
  {
   "cell_type": "code",
   "execution_count": 14,
   "id": "704ba186",
   "metadata": {},
   "outputs": [],
   "source": [
    "import os\n",
    "from telegram.ext  import Updater, CommandHandler, MessageHandler, Filters, CallbackContext\n",
    "from telegram import Update\n",
    "import string\n",
    "from pymorphy2 import MorphAnalyzer\n",
    "from stop_words import get_stop_words\n",
    "import annoy\n",
    "from gensim.models import Word2Vec, FastText\n",
    "import pickle\n",
    "import numpy as np\n",
    "from tqdm import tqdm_notebook\n",
    "import pandas as pd"
   ]
  },
  {
   "cell_type": "markdown",
   "id": "c2dbd042",
   "metadata": {},
   "source": [
    "### Болталка"
   ]
  },
  {
   "cell_type": "code",
   "execution_count": 30,
   "id": "0309058a",
   "metadata": {},
   "outputs": [],
   "source": [
    "# Препроцессинг\n",
    "\n",
    "morpher = MorphAnalyzer()\n",
    "sw = set(get_stop_words(\"ru\"))\n",
    "exclude = set(string.punctuation)\n",
    "\n",
    "def preprocess_txt(line):\n",
    "    spls = \"\".join(i for i in line.strip() if i not in exclude).split()\n",
    "    spls = [morpher.parse(i.lower())[0].normal_form for i in spls]\n",
    "    spls = [i for i in spls if i not in sw and i != \"\"]\n",
    "    return spls"
   ]
  },
  {
   "cell_type": "code",
   "execution_count": 3,
   "id": "9d11ab55",
   "metadata": {},
   "outputs": [
    {
     "name": "stderr",
     "output_type": "stream",
     "text": [
      "/var/folders/zn/6rz5gp7s0h702g118wcbvmkh0000gn/T/ipykernel_49732/2737161859.py:10: TqdmDeprecationWarning: This function will be removed in tqdm==5.0.0\n",
      "Please use `tqdm.notebook.tqdm` instead of `tqdm.tqdm_notebook`\n",
      "  for line in tqdm_notebook(fin):\n"
     ]
    },
    {
     "data": {
      "application/vnd.jupyter.widget-view+json": {
       "model_id": "fbeaa2240af24c069ec479309832fa46",
       "version_major": 2,
       "version_minor": 0
      },
      "text/plain": [
       "0it [00:00, ?it/s]"
      ]
     },
     "metadata": {},
     "output_type": "display_data"
    }
   ],
   "source": [
    "# # assert False\n",
    "\n",
    "# #Small preprocess of the answers\n",
    "\n",
    "# question = None\n",
    "# written = False\n",
    "\n",
    "# with open(\"prepared_answers.txt\", \"w\") as fout:\n",
    "#     with open(\"Otvety.txt\", \"r\") as fin:\n",
    "#         for line in tqdm_notebook(fin):\n",
    "#             if line.startswith(\"---\"):\n",
    "#                 written = False\n",
    "#                 continue\n",
    "#             if not written and question is not None:\n",
    "#                 fout.write(question.replace(\"\\t\", \" \").strip() + \"\\t\" + line.replace(\"\\t\", \" \"))\n",
    "#                 written = True\n",
    "#                 question = None\n",
    "#                 continue\n",
    "#             if not written:\n",
    "#                 question = line.strip()\n",
    "#                 continue"
   ]
  },
  {
   "cell_type": "code",
   "execution_count": 4,
   "id": "7284b2d1",
   "metadata": {},
   "outputs": [
    {
     "name": "stderr",
     "output_type": "stream",
     "text": [
      "/var/folders/zn/6rz5gp7s0h702g118wcbvmkh0000gn/T/ipykernel_49732/2572217188.py:10: TqdmDeprecationWarning: This function will be removed in tqdm==5.0.0\n",
      "Please use `tqdm.notebook.tqdm` instead of `tqdm.tqdm_notebook`\n",
      "  for line in tqdm_notebook(fin):\n"
     ]
    },
    {
     "data": {
      "application/vnd.jupyter.widget-view+json": {
       "model_id": "e39fd655d61c4705aa97e7f908ddd8a3",
       "version_major": 2,
       "version_minor": 0
      },
      "text/plain": [
       "0it [00:00, ?it/s]"
      ]
     },
     "metadata": {},
     "output_type": "display_data"
    }
   ],
   "source": [
    "# assert True\n",
    "\n",
    "# # Preprocess for models fitting\n",
    "\n",
    "# sentences = []\n",
    "\n",
    "# c = 0\n",
    "\n",
    "# with open(\"Otvety.txt\", \"r\") as fin:\n",
    "#     for line in tqdm_notebook(fin):\n",
    "#         spls = preprocess_txt(line)\n",
    "#         sentences.append(spls)\n",
    "#         c += 1\n",
    "#         if c > 500000:\n",
    "#             break"
   ]
  },
  {
   "cell_type": "code",
   "execution_count": 6,
   "id": "e2d8e77e",
   "metadata": {},
   "outputs": [],
   "source": [
    "# sentences = [i for i in sentences if len(i) > 2]\n",
    "# modelFT = FastText(sentences=sentences, vector_size=100, min_count=1, window=5)\n",
    "# modelFT.save(\"ft_model\")"
   ]
  },
  {
   "cell_type": "code",
   "execution_count": 8,
   "id": "2bde130d",
   "metadata": {},
   "outputs": [
    {
     "name": "stderr",
     "output_type": "stream",
     "text": [
      "/var/folders/zn/6rz5gp7s0h702g118wcbvmkh0000gn/T/ipykernel_49732/3909113024.py:8: TqdmDeprecationWarning: This function will be removed in tqdm==5.0.0\n",
      "Please use `tqdm.notebook.tqdm` instead of `tqdm.tqdm_notebook`\n",
      "  for line in tqdm_notebook(f):\n"
     ]
    },
    {
     "data": {
      "application/vnd.jupyter.widget-view+json": {
       "model_id": "616143bc7fbc4bcd9d380338d1433096",
       "version_major": 2,
       "version_minor": 0
      },
      "text/plain": [
       "0it [00:00, ?it/s]"
      ]
     },
     "metadata": {},
     "output_type": "display_data"
    },
    {
     "data": {
      "text/plain": [
       "True"
      ]
     },
     "execution_count": 8,
     "metadata": {},
     "output_type": "execute_result"
    }
   ],
   "source": [
    "# modelFT = FastText.load(\"ft_model\")\n",
    "# ft_index = annoy.AnnoyIndex(100 ,'angular')\n",
    "\n",
    "# index_map = {}\n",
    "# counter = 0\n",
    "\n",
    "# with open(\"prepared_answers.txt\", \"r\") as f:\n",
    "#     for line in tqdm_notebook(f):\n",
    "#         n_ft = 0\n",
    "#         spls = line.split(\"\\t\")\n",
    "#         index_map[counter] = spls[1]\n",
    "#         question = preprocess_txt(spls[0])\n",
    "#         vector_ft = np.zeros(100)\n",
    "#         for word in question:\n",
    "#             if word in modelFT.wv:\n",
    "#                 vector_ft += modelFT.wv[word]\n",
    "#                 n_ft += 1\n",
    "#         if n_ft > 0:\n",
    "#             vector_ft = vector_ft / n_ft\n",
    "#         ft_index.add_item(counter, vector_ft)\n",
    "            \n",
    "#         counter += 1\n",
    "\n",
    "# ft_index.build(10)\n",
    "# ft_index.save('speaker.ann')"
   ]
  },
  {
   "cell_type": "code",
   "execution_count": 9,
   "id": "f082590f",
   "metadata": {},
   "outputs": [
    {
     "data": {
      "text/plain": [
       "True"
      ]
     },
     "execution_count": 9,
     "metadata": {},
     "output_type": "execute_result"
    }
   ],
   "source": [
    "ft_index = annoy.AnnoyIndex(100, 'angular')\n",
    "ft_index.load('speaker.ann') "
   ]
  },
  {
   "cell_type": "code",
   "execution_count": 10,
   "id": "e560ef57",
   "metadata": {},
   "outputs": [
    {
     "data": {
      "text/plain": [
       "[11682, 18801]"
      ]
     },
     "execution_count": 10,
     "metadata": {},
     "output_type": "execute_result"
    }
   ],
   "source": [
    "ft_index.get_nns_by_vector(np.zeros(100), 2)"
   ]
  },
  {
   "cell_type": "code",
   "execution_count": 21,
   "id": "33909b5f",
   "metadata": {},
   "outputs": [],
   "source": [
    "def embed_txt(txt, idfs, midf):\n",
    "    n_ft = 0\n",
    "    vector_ft = np.zeros(100)\n",
    "    for word in txt:\n",
    "        if word in modelFT.wv:\n",
    "            vector_ft += modelFT.wv[word] * 1 # idfs.get(word, midf)\n",
    "            n_ft += 1 # idfs.get(word, midf)\n",
    "    return vector_ft / n_ft"
   ]
  },
  {
   "cell_type": "markdown",
   "id": "3f673815",
   "metadata": {},
   "source": [
    "### Определение типа запроса "
   ]
  },
  {
   "cell_type": "code",
   "execution_count": 31,
   "id": "fd87792d",
   "metadata": {},
   "outputs": [],
   "source": [
    "# Проверка языка текста\n",
    "\n",
    "import re \n",
    "\n",
    "def is_english(text):\n",
    "    return bool(re.search(r'[a-zA-Z]', text))"
   ]
  },
  {
   "cell_type": "code",
   "execution_count": 32,
   "id": "87e55486",
   "metadata": {},
   "outputs": [],
   "source": [
    "# Список ключевых слов для определения запроса о погоде\n",
    "\n",
    "list_for_weather = ['погода','солнечно', 'осадка', 'дождь', 'снег', 'ливень', 'зонт']\n",
    "list_for_translation = ['перевод', 'английский']"
   ]
  },
  {
   "cell_type": "code",
   "execution_count": 33,
   "id": "d14103c8",
   "metadata": {},
   "outputs": [],
   "source": [
    "# Проверка есть ли совпадение со списком ключевых слов\n",
    "\n",
    "def is_in_list(text, list):\n",
    "    for word in text:\n",
    "        if word in list:\n",
    "            return True\n",
    "            break\n",
    "    return False"
   ]
  },
  {
   "cell_type": "markdown",
   "id": "d62d3749",
   "metadata": {},
   "source": [
    "### Прогноз погоды"
   ]
  },
  {
   "cell_type": "code",
   "execution_count": 95,
   "id": "fa2d2f42",
   "metadata": {},
   "outputs": [],
   "source": [
    "# Запрос прогноза погоды\n",
    "\n",
    "import requests \n",
    "import json\n",
    "\n",
    "key = '9ead4b09f8ab46fb9ce105955220407' # Токен https://www.weatherapi.com/\n",
    "\n",
    "def get_weather(city):\n",
    "    url = f'http://api.weatherapi.com/v1/current.json?key={key}&q={city}&lang=ru'\n",
    "    requests.get(url)\n",
    "    response = requests.get(url)\n",
    "    json_data = json.loads(response.text)\n",
    "\n",
    "    city = json_data['location']['name']\n",
    "    time = json_data['location']['localtime'].split(' ')[1]\n",
    "    temp = json_data['current']['temp_c']\n",
    "    temp_fl = json_data['current']['feelslike_c']\n",
    "    condition = json_data['current']['condition']['text']\n",
    "    wind = json_data['current']['wind_mph']\n",
    "    uv = json_data['current']['uv']\n",
    "\n",
    "    msg = f'В городе {city} сейчас {time}. О погоде: {condition}, температура {temp} градусов, ощущается как {temp_fl} градусов, скорость ветра {wind} м/ч, уровень ультрафиолета {uv}'\n",
    "\n",
    "    return msg"
   ]
  },
  {
   "cell_type": "code",
   "execution_count": 96,
   "id": "b5243848",
   "metadata": {},
   "outputs": [],
   "source": [
    "# Определение города\n",
    "\n",
    "def location_recognition(text): \n",
    "    locs = []\n",
    "    doc = nlp(text)\n",
    "    for ent in doc.ents:\n",
    "        if ent.label_ == 'LOC':\n",
    "            locs.append(ent.text)\n",
    "    locs = [morpher.parse(i.lower())[0].normal_form for i in locs]\n",
    "    return locs"
   ]
  },
  {
   "cell_type": "code",
   "execution_count": 97,
   "id": "1803c5b0",
   "metadata": {},
   "outputs": [],
   "source": [
    "# Погода в заданном городе\n",
    "\n",
    "def forecast(text):\n",
    "    city = location_recognition(text)\n",
    "    try:\n",
    "        forecast = get_weather(city)\n",
    "    except:\n",
    "        forecast = 'Не понимаю тебя'\n",
    "    \n",
    "    return forecast"
   ]
  },
  {
   "cell_type": "markdown",
   "id": "5f0caf16",
   "metadata": {},
   "source": [
    "### Перевод текста"
   ]
  },
  {
   "cell_type": "code",
   "execution_count": 52,
   "id": "4e02658b",
   "metadata": {},
   "outputs": [
    {
     "data": {
      "application/vnd.jupyter.widget-view+json": {
       "model_id": "8ca7b898ee904c329105caed9835eace",
       "version_major": 2,
       "version_minor": 0
      },
      "text/plain": [
       "Downloading:   0%|          | 0.00/1.08G [00:00<?, ?B/s]"
      ]
     },
     "metadata": {},
     "output_type": "display_data"
    },
    {
     "name": "stdout",
     "output_type": "stream",
     "text": [
      "Машинное обучение - это здорово, не так ли?\n"
     ]
    }
   ],
   "source": [
    "# Загрузка модели\n",
    "\n",
    "from transformers import FSMTForConditionalGeneration, FSMTTokenizer\n",
    "\n",
    "model_name = \"facebook/wmt19-en-ru\"\n",
    "tokenizer = FSMTTokenizer.from_pretrained(model_name)\n",
    "model = FSMTForConditionalGeneration.from_pretrained(model_name)"
   ]
  },
  {
   "cell_type": "code",
   "execution_count": 53,
   "id": "f7e0df9d",
   "metadata": {},
   "outputs": [],
   "source": [
    "# Функция перевода\n",
    "\n",
    "def en_ru_translation(text):\n",
    "    input_ids = tokenizer.encode(text, return_tensors=\"pt\")\n",
    "    outputs = model.generate(input_ids)\n",
    "    decoded = tokenizer.decode(outputs[0], skip_special_tokens=True)\n",
    "    \n",
    "    return decoded "
   ]
  },
  {
   "cell_type": "markdown",
   "id": "99022661",
   "metadata": {},
   "source": [
    "### Работа бота"
   ]
  },
  {
   "cell_type": "code",
   "execution_count": 98,
   "id": "abb12725",
   "metadata": {},
   "outputs": [],
   "source": [
    "updater = Updater(token='5339035578:AAHZ5JVUbtFneta5sbB9-_C2KFtGQ-sjDts') # Токен API к Telegram\n",
    "dispatcher = updater.dispatcher"
   ]
  },
  {
   "cell_type": "code",
   "execution_count": 99,
   "id": "f030060b",
   "metadata": {},
   "outputs": [],
   "source": [
    "def startCommand(update: Update, context: CallbackContext):\n",
    "    update.message.reply_text('Привет!')"
   ]
  },
  {
   "cell_type": "code",
   "execution_count": 100,
   "id": "f6be43b7",
   "metadata": {},
   "outputs": [],
   "source": [
    "# Определение и выполнение запроса пользователя\n",
    "\n",
    "def textMessage(update: Update, context: CallbackContext):\n",
    "    input_txt = preprocess_txt(update.message.text)\n",
    "    \n",
    "    # Перевод с английского\n",
    "    if is_english(update.message.text) == True:\n",
    "        update.message.reply_text(en_ru_translation(update.message.text))\n",
    "    elif is_in_list(input_txt, list_for_translation) == True:\n",
    "        update.message.reply_text(\"Какое предложение вам перевести?\") \n",
    "        \n",
    "    # Прогноз погоды    \n",
    "    elif is_in_list(input_txt, list_for_weather) == True:        \n",
    "        update.message.reply_text(forecast(update.message.text))\n",
    "            \n",
    "    # Болталка\n",
    "    else: \n",
    "        vect_ft = embed_txt(input_txt, {}, 1)\n",
    "        ft_index_val, distances = ft_index.get_nns_by_vector(vect_ft, 1, include_distances=True)\n",
    "        if distances[0] > 0.35:\n",
    "            print(distances[0])\n",
    "            update.message.reply_text(\"Не понимаю тебя\")\n",
    "        else:\n",
    "            update.message.reply_text(index_map[ft_index_val[0]])\n",
    "            \n",
    "    return"
   ]
  },
  {
   "cell_type": "code",
   "execution_count": null,
   "id": "12bda712",
   "metadata": {},
   "outputs": [],
   "source": [
    "# on different commands - answer in Telegram\n",
    "dispatcher.add_handler(CommandHandler(\"start\", startCommand))\n",
    "dispatcher.add_handler(MessageHandler(Filters.text & ~Filters.command, textMessage))\n",
    "\n",
    "# Start the Bot\n",
    "updater.start_polling()\n",
    "updater.idle()"
   ]
  }
 ],
 "metadata": {
  "kernelspec": {
   "display_name": "Python 3 (ipykernel)",
   "language": "python",
   "name": "python3"
  },
  "language_info": {
   "codemirror_mode": {
    "name": "ipython",
    "version": 3
   },
   "file_extension": ".py",
   "mimetype": "text/x-python",
   "name": "python",
   "nbconvert_exporter": "python",
   "pygments_lexer": "ipython3",
   "version": "3.9.13"
  }
 },
 "nbformat": 4,
 "nbformat_minor": 5
}
